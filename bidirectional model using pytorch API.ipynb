{
 "cells": [
  {
   "cell_type": "markdown",
   "metadata": {
    "id": "HOA1Io65rWJW"
   },
   "source": [
    "# DL model embedding (PYTORCH)"
   ]
  },
  {
   "cell_type": "code",
   "execution_count": null,
   "metadata": {
    "colab": {
     "base_uri": "https://localhost:8080/"
    },
    "id": "DmqtVRicrclW",
    "outputId": "98700676-d23f-42f8-c9a0-025fcea5f51d"
   },
   "outputs": [
    {
     "name": "stdout",
     "output_type": "stream",
     "text": [
      "Requirement already satisfied: torch in /usr/local/lib/python3.7/dist-packages (1.8.1+cu101)\n",
      "Requirement already satisfied: typing-extensions in /usr/local/lib/python3.7/dist-packages (from torch) (3.7.4.3)\n",
      "Requirement already satisfied: numpy in /usr/local/lib/python3.7/dist-packages (from torch) (1.19.5)\n"
     ]
    }
   ],
   "source": [
    "# !pip install torch"
   ]
  },
  {
   "cell_type": "code",
   "execution_count": 13,
   "metadata": {
    "id": "swNI6EQrriDK"
   },
   "outputs": [],
   "source": [
    "import torch\n",
    "import torch.nn as nn\n",
    "import torch.nn.functional as F\n",
    "from tensorflow.keras.preprocessing.sequence import pad_sequences\n",
    "from tensorflow.keras.preprocessing.text import one_hot"
   ]
  },
  {
   "cell_type": "code",
   "execution_count": 15,
   "metadata": {
    "colab": {
     "base_uri": "https://localhost:8080/"
    },
    "id": "hHQOVtjYsD1V",
    "outputId": "d23851ce-a3d8-449c-ad12-4debf89855c2"
   },
   "outputs": [
    {
     "data": {
      "text/plain": [
       "array([[4027, 2561, 1473, ...,    0,    0,    0],\n",
       "       [2996, 3834, 2194, ...,    0,    0,    0],\n",
       "       [2073, 4066, 2685, ...,    0,    0,    0],\n",
       "       ...,\n",
       "       [2180, 3485, 4315, ...,    0,    0,    0],\n",
       "       [  87, 4374,  405, ...,    0,    0,    0],\n",
       "       [4695, 3902, 2428, ...,    0,    0,    0]], dtype=int32)"
      ]
     },
     "execution_count": 15,
     "metadata": {
      "tags": []
     },
     "output_type": "execute_result"
    }
   ],
   "source": [
    "vocab_size = 5000\n",
    "one_hot_object = [one_hot(words,vocab_size) for words in X_data]\n",
    "one_hot_object\n",
    "\n",
    "\n",
    "embedded_words = pad_sequences(\n",
    "    one_hot_object,\n",
    "    padding=\"post\",\n",
    "    maxlen = 25\n",
    ")\n",
    "embedded_words"
   ]
  },
  {
   "cell_type": "code",
   "execution_count": 16,
   "metadata": {
    "id": "Xsevfewk4fYw"
   },
   "outputs": [],
   "source": [
    "from sklearn.model_selection import train_test_split\n",
    "X_train,X_test,Y_train,Y_test = train_test_split(embedded_words,Y_data,random_state=42,test_size=0.15)\n",
    "\n",
    "\n",
    "X_test = torch.tensor(X_test)\n",
    "Y_test = torch.FloatTensor(Y_test.reshape(-1,1))\n",
    "\n",
    "\n",
    "from torch.utils.data import TensorDataset,DataLoader\n",
    "train_dt = TensorDataset(torch.tensor(X_train),torch.FloatTensor(Y_train.reshape(-1,1)))\n",
    "train_loader = DataLoader(train_dt,batch_size=16)\n"
   ]
  },
  {
   "cell_type": "code",
   "execution_count": 19,
   "metadata": {
    "id": "GCdw8V01sE5R"
   },
   "outputs": [],
   "source": [
    "\n",
    "class BRNN(nn.Module):\n",
    "  def __init__(self):\n",
    "    super().__init__()\n",
    "    self.emb = nn.Embedding(num_embeddings=10000,embedding_dim=40)\n",
    "    self.r1 = nn.LSTM(40,hidden_size = 180,batch_first=True,num_layers=2,bidirectional=True)\n",
    "    self.l1 = nn.Linear(in_features=180,out_features=140)\n",
    "    self.l2 = nn.Linear(in_features=140,out_features=120)\n",
    "    self.l3 = nn.Linear(in_features=120,out_features=42)\n",
    "    self.out = nn.Linear(in_features=42,out_features=1)\n",
    "\n",
    "  def Forward(self,x):\n",
    "    net = self.emb(x)\n",
    "    out_ ,(ht,c) = self.r1(net)\n",
    "    net = self.l1(ht[-1])\n",
    "    net = F.relu(net)\n",
    "    net = self.l2(net)\n",
    "    net = F.relu(net)\n",
    "    net = self.l3(net)\n",
    "    net = F.relu(net)\n",
    "    net = self.out(net)\n",
    "    out = F.sigmoid(net)\n",
    "    return out"
   ]
  },
  {
   "cell_type": "code",
   "execution_count": 20,
   "metadata": {
    "id": "cZAChmLh0MTf"
   },
   "outputs": [],
   "source": [
    "#training the model\n",
    "\n",
    "\n",
    "def train(model,epochs):\n",
    "  model_ = model\n",
    "  model_.zero_grad()\n",
    "  model_.train()\n",
    "  optimizer = torch.optim.RMSprop(model_.parameters(),lr=0.001)\n",
    "  loss_func = nn.BCELoss()\n",
    "  loss = []\n",
    "  for epoch in range(1,epochs+1):\n",
    "    for feature,label in train_loader:\n",
    "      Y_pred = model.Forward(feature)\n",
    "      loss_ = loss_func(Y_pred,label)\n",
    "      optimizer.zero_grad()\n",
    "      loss_.backward()\n",
    "      optimizer.step()\n",
    "    loss.append(loss_.item())\n",
    "    if epoch:\n",
    "      print(\"epoch :\",epoch)\n",
    "      print(\"loss\" ,loss_.item())\n",
    "      print(\"==\"*30,\"\\n\")\n",
    "  return loss\n",
    "\n",
    "def evaluate(model,data):\n",
    "  with torch.no_grad():\n",
    "    model_ = model\n",
    "    model_.eval()\n",
    "    predictions = []\n",
    "    for i in data:\n",
    "      y = model_.Forward(i.reshape(1,-1))\n",
    "      if y.item() >= 0.5:\n",
    "        y = 1\n",
    "        predictions.append(y)\n",
    "      else:\n",
    "        y = 0\n",
    "        predictions.append(y)\n",
    "  return predictions"
   ]
  },
  {
   "cell_type": "code",
   "execution_count": 21,
   "metadata": {
    "colab": {
     "base_uri": "https://localhost:8080/"
    },
    "id": "d6ya-ZGEEsvG",
    "outputId": "56f6ba26-a481-40ee-dd34-57e15c5a22c5"
   },
   "outputs": [
    {
     "name": "stderr",
     "output_type": "stream",
     "text": [
      "/usr/local/lib/python3.7/dist-packages/torch/nn/functional.py:1709: UserWarning: nn.functional.sigmoid is deprecated. Use torch.sigmoid instead.\n",
      "  warnings.warn(\"nn.functional.sigmoid is deprecated. Use torch.sigmoid instead.\")\n"
     ]
    },
    {
     "name": "stdout",
     "output_type": "stream",
     "text": [
      "epoch : 1\n",
      "loss 0.3737410008907318\n",
      "============================================================ \n",
      "\n",
      "epoch : 2\n",
      "loss 0.36115115880966187\n",
      "============================================================ \n",
      "\n",
      "epoch : 3\n",
      "loss 0.43766701221466064\n",
      "============================================================ \n",
      "\n",
      "epoch : 4\n",
      "loss 0.3280957341194153\n",
      "============================================================ \n",
      "\n",
      "epoch : 5\n",
      "loss 0.2526642382144928\n",
      "============================================================ \n",
      "\n",
      "epoch : 6\n",
      "loss 0.10852375626564026\n",
      "============================================================ \n",
      "\n",
      "epoch : 7\n",
      "loss 0.02371389977633953\n",
      "============================================================ \n",
      "\n",
      "epoch : 8\n",
      "loss 0.12490575760602951\n",
      "============================================================ \n",
      "\n",
      "epoch : 9\n",
      "loss 0.016773074865341187\n",
      "============================================================ \n",
      "\n",
      "epoch : 10\n",
      "loss 0.07747146487236023\n",
      "============================================================ \n",
      "\n"
     ]
    }
   ],
   "source": [
    "loss = train(BRNN(),10)"
   ]
  },
  {
   "cell_type": "code",
   "execution_count": 22,
   "metadata": {
    "colab": {
     "base_uri": "https://localhost:8080/"
    },
    "id": "g1NSS2jEHwa1",
    "outputId": "ca9b3948-b54b-441a-9a91-8248741cbfd0"
   },
   "outputs": [
    {
     "name": "stderr",
     "output_type": "stream",
     "text": [
      "/usr/local/lib/python3.7/dist-packages/torch/nn/functional.py:1709: UserWarning: nn.functional.sigmoid is deprecated. Use torch.sigmoid instead.\n",
      "  warnings.warn(\"nn.functional.sigmoid is deprecated. Use torch.sigmoid instead.\")\n"
     ]
    }
   ],
   "source": [
    "predictions = evaluate(BRNN(),X_test)\n"
   ]
  },
  {
   "cell_type": "code",
   "execution_count": 23,
   "metadata": {
    "colab": {
     "base_uri": "https://localhost:8080/"
    },
    "id": "Wm5yLFe7vfxb",
    "outputId": "80fb858a-3f3b-4cf2-f32e-71d100df72d3"
   },
   "outputs": [
    {
     "data": {
      "text/plain": [
       "0.5067391077212412"
      ]
     },
     "execution_count": 23,
     "metadata": {
      "tags": []
     },
     "output_type": "execute_result"
    }
   ],
   "source": [
    "from sklearn.metrics import accuracy_score\n",
    "accuracy_score(Y_test,predictions)"
   ]
  },
  {
   "cell_type": "code",
   "execution_count": null,
   "metadata": {
    "id": "LaMMEz2NG7o6"
   },
   "outputs": [],
   "source": [
    "torch.save(BRNN(),\"Sentiment_pytorch_model\")"
   ]
  },
  {
   "cell_type": "markdown",
   "metadata": {},
   "source": [
    "observation---> Pytorch long short term memory seq to veq model has underperformed hence we will select either tfidf or BOW model"
   ]
  },
  {
   "cell_type": "code",
   "execution_count": null,
   "metadata": {},
   "outputs": [],
   "source": []
  }
 ],
 "metadata": {
  "accelerator": "GPU",
  "colab": {
   "collapsed_sections": [
    "9-jwFfnsEJ3u"
   ],
   "name": "sentiment analysis using Bidirectional Model.ipynb",
   "provenance": []
  },
  "kernelspec": {
   "display_name": "Python 3",
   "language": "python",
   "name": "python3"
  },
  "language_info": {
   "codemirror_mode": {
    "name": "ipython",
    "version": 3
   },
   "file_extension": ".py",
   "mimetype": "text/x-python",
   "name": "python",
   "nbconvert_exporter": "python",
   "pygments_lexer": "ipython3",
   "version": "3.8.8"
  }
 },
 "nbformat": 4,
 "nbformat_minor": 1
}
