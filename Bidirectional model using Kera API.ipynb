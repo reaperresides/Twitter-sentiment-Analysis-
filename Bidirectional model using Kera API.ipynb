{
 "cells": [
  {
   "cell_type": "markdown",
   "metadata": {
    "id": "9-jwFfnsEJ3u"
   },
   "source": [
    "# DL model embedding (KERAS)\n"
   ]
  },
  {
   "cell_type": "code",
   "execution_count": null,
   "metadata": {
    "id": "A64dd-jNSB9-"
   },
   "outputs": [],
   "source": [
    "# !pip install keras-tuner\n",
    "\n",
    "import tensorflow as tf\n",
    "from tensorflow.keras.models import Sequential\n",
    "from tensorflow.keras.layers import Dense,GRU,BatchNormalization,Bidirectional,Dropout\n",
    "from tensorflow.keras import Input as Input_layer\n",
    "from tensorflow.keras.layers import Flatten\n",
    "from tensorflow.keras.preprocessing.text import one_hot\n",
    "from tensorflow.keras.preprocessing.sequence import pad_sequences\n",
    "from tensorflow.keras.layers import Embedding\n",
    "from tensorflow.keras.layers import BatchNormalization\n",
    "# from kerastuner import RandomSearch"
   ]
  },
  {
   "cell_type": "code",
   "execution_count": null,
   "metadata": {
    "colab": {
     "base_uri": "https://localhost:8080/"
    },
    "id": "ffKZoLJFUmHO",
    "outputId": "5db9a22b-3c93-4801-bfa7-99bcdbab8dc3"
   },
   "outputs": [
    {
     "name": "stdout",
     "output_type": "stream",
     "text": [
      "36\n"
     ]
    }
   ],
   "source": [
    "vocabulary_size = 5000\n",
    "one_hot_object = [one_hot(word,vocabulary_size) for word in X_data]\n",
    "one_hot_object #creating one hot encoding of the object\n",
    "\n",
    "\n",
    "sent_length = []\n",
    "for sent in one_hot_object:\n",
    "  sent_length.append(len(sent))\n",
    "print(max(sent_length))  #printing maximum sentence length value to determine sentence length"
   ]
  },
  {
   "cell_type": "code",
   "execution_count": null,
   "metadata": {
    "colab": {
     "base_uri": "https://localhost:8080/"
    },
    "id": "V7i4BIypUmLz",
    "outputId": "d9016194-8706-405d-fc6e-1c6ceac5ef1c"
   },
   "outputs": [
    {
     "data": {
      "text/plain": [
       "array([[4186, 3856, 3222, ...,    0,    0,    0],\n",
       "       [3272, 1379, 2602, ...,    0,    0,    0],\n",
       "       [3222, 3966,  227, ...,    0,    0,    0],\n",
       "       ...,\n",
       "       [2488, 1614, 1531, ...,    0,    0,    0],\n",
       "       [ 528, 1595, 1573, ...,    0,    0,    0],\n",
       "       [2200, 3257,  232, ...,    0,    0,    0]], dtype=int32)"
      ]
     },
     "execution_count": 12,
     "metadata": {
      "tags": []
     },
     "output_type": "execute_result"
    }
   ],
   "source": [
    "sent_length_ = 40\n",
    "\n",
    "\n",
    "embedded_words = pad_sequences(\n",
    "    sequences = one_hot_object,\n",
    "    padding = \"post\",\n",
    "    maxlen = sent_length_\n",
    ")\n",
    "\n",
    "embedded_words"
   ]
  },
  {
   "cell_type": "code",
   "execution_count": null,
   "metadata": {
    "id": "akhJBTUXbOO_"
   },
   "outputs": [],
   "source": [
    "from sklearn.model_selection import train_test_split\n",
    "\n",
    "X_train,X_test,Y_train,Y_test = train_test_split(embedded_words,Y_data.reshape(-1,1),test_size=0.15)"
   ]
  },
  {
   "cell_type": "code",
   "execution_count": null,
   "metadata": {
    "colab": {
     "base_uri": "https://localhost:8080/"
    },
    "id": "CVFuy4i-rgXG",
    "outputId": "ff9debc1-19f9-44cf-9a65-8fd4526c288f"
   },
   "outputs": [
    {
     "name": "stdout",
     "output_type": "stream",
     "text": [
      "(54566, 40) (9630, 40) (54566, 1) (9630, 1)\n"
     ]
    }
   ],
   "source": [
    "print(X_train.shape,X_test.shape,Y_train.shape,Y_test.shape)"
   ]
  },
  {
   "cell_type": "code",
   "execution_count": null,
   "metadata": {
    "id": "Ox2-l3mdEGxj"
   },
   "outputs": [],
   "source": [
    "embedding_vectors = 40\n",
    "\n",
    "\n",
    "\n",
    "\n",
    "model = Sequential()\n",
    "\n",
    "#embedding layer\n",
    "model.add(\n",
    "    Embedding(\n",
    "        input_dim = vocabulary_size,\n",
    "        output_dim = embedding_vectors,\n",
    "        input_length = sent_length_\n",
    "    )\n",
    ")\n",
    "\n",
    "#Bidirectional layer staked with LSTM\n",
    "model.add(\n",
    "    Bidirectional(GRU(\n",
    "        units = 180,\n",
    "        activation = \"tanh\",\n",
    "        kernel_initializer = tf.keras.initializers.he_normal(),\n",
    "        return_sequences = True,\n",
    "        name = \"Bidirectional_1_layer\"\n",
    "    ))\n",
    ")\n",
    "\n",
    "\n",
    "\n",
    "model.add(\n",
    "    Bidirectional(GRU(\n",
    "        units = 140,\n",
    "        activation = \"tanh\",\n",
    "        kernel_initializer = tf.keras.initializers.he_normal(),\n",
    "        return_sequences = True,\n",
    "        name = \"Bidirectional_2_layer\"\n",
    "    ))\n",
    ")\n",
    "\n",
    "\n",
    "\n",
    "#fully connected layer \n",
    "model.add(\n",
    "    Dense(\n",
    "        units = 130,\n",
    "        activation = \"sigmoid\",\n",
    "        kernel_initializer = tf.keras.initializers.he_normal(),\n",
    "        name = \"Dense_1_layer\"\n",
    "    )\n",
    ")\n",
    "\n",
    "\n",
    "model.add(\n",
    "    Dropout(rate=0.5)\n",
    ")\n",
    "\n",
    "#fully connected layer 2\n",
    "model.add(\n",
    "    Dense(\n",
    "        units = 110,\n",
    "        activation = \"sigmoid\",\n",
    "        kernel_initializer = tf.keras.initializers.he_normal(),\n",
    "        name = \"Dense_2_layer\"\n",
    "    )\n",
    ")\n",
    "\n",
    "\n",
    "#batchnormalization layer\n",
    "model.add(\n",
    "    BatchNormalization(axis=1,center=True)\n",
    ")\n",
    "\n",
    "\n",
    "\n",
    "#fully connected layer 3\n",
    "model.add(\n",
    "    Dense(\n",
    "        units = 42,\n",
    "        activation = \"sigmoid\",\n",
    "        kernel_initializer = tf.keras.initializers.he_normal(),\n",
    "        name = \"Dense_3_layer\"\n",
    "    )\n",
    ")\n",
    "\n",
    "\n",
    "\n",
    "model.add(\n",
    "    Dropout(rate=0.5)\n",
    ")\n",
    "\n",
    "\n",
    "#final layer\n",
    "model.add(\n",
    "    Dense(\n",
    "        units = 1,\n",
    "        kernel_initializer = tf.keras.initializers.he_normal(),\n",
    "        activation = \"sigmoid\"\n",
    "    )\n",
    ")\n",
    "\n",
    "\n",
    "model.compile(\n",
    "    optimizer = tf.keras.optimizers.RMSprop(learning_rate=0.0001),\n",
    "    loss = \"binary_crossentropy\",\n",
    "    metrics = [\"accuracy\"]\n",
    ")\n",
    "    "
   ]
  },
  {
   "cell_type": "code",
   "execution_count": null,
   "metadata": {
    "colab": {
     "base_uri": "https://localhost:8080/"
    },
    "id": "s1P6eUmvEqKF",
    "outputId": "316e391d-b78a-46eb-cbe5-9d7791c91759"
   },
   "outputs": [
    {
     "name": "stdout",
     "output_type": "stream",
     "text": [
      "Epoch 1/25\n",
      "2899/2899 [==============================] - 53s 16ms/step - loss: 0.6972 - accuracy: 0.5432 - val_loss: 0.5636 - val_accuracy: 0.7104\n",
      "Epoch 2/25\n",
      "2899/2899 [==============================] - 46s 16ms/step - loss: 0.5629 - accuracy: 0.7208 - val_loss: 0.5479 - val_accuracy: 0.7261\n",
      "Epoch 3/25\n",
      "2899/2899 [==============================] - 46s 16ms/step - loss: 0.5400 - accuracy: 0.7366 - val_loss: 0.5487 - val_accuracy: 0.7250\n",
      "Epoch 4/25\n",
      "2899/2899 [==============================] - 46s 16ms/step - loss: 0.5257 - accuracy: 0.7485 - val_loss: 0.5409 - val_accuracy: 0.7303\n",
      "Epoch 5/25\n",
      "2899/2899 [==============================] - 46s 16ms/step - loss: 0.5230 - accuracy: 0.7478 - val_loss: 0.5434 - val_accuracy: 0.7257\n",
      "Epoch 6/25\n",
      "2899/2899 [==============================] - 46s 16ms/step - loss: 0.5179 - accuracy: 0.7504 - val_loss: 0.5330 - val_accuracy: 0.7325\n",
      "Epoch 7/25\n",
      "2899/2899 [==============================] - 46s 16ms/step - loss: 0.5129 - accuracy: 0.7549 - val_loss: 0.5337 - val_accuracy: 0.7319\n",
      "Epoch 8/25\n",
      "2899/2899 [==============================] - 46s 16ms/step - loss: 0.5109 - accuracy: 0.7564 - val_loss: 0.5318 - val_accuracy: 0.7329\n",
      "Epoch 9/25\n",
      "2899/2899 [==============================] - 46s 16ms/step - loss: 0.5090 - accuracy: 0.7569 - val_loss: 0.5320 - val_accuracy: 0.7312\n",
      "Epoch 10/25\n",
      "2899/2899 [==============================] - 46s 16ms/step - loss: 0.5025 - accuracy: 0.7610 - val_loss: 0.5409 - val_accuracy: 0.7270\n",
      "Epoch 11/25\n",
      "2899/2899 [==============================] - 46s 16ms/step - loss: 0.5085 - accuracy: 0.7561 - val_loss: 0.5291 - val_accuracy: 0.7341\n",
      "Epoch 12/25\n",
      "2899/2899 [==============================] - 46s 16ms/step - loss: 0.4997 - accuracy: 0.7611 - val_loss: 0.5297 - val_accuracy: 0.7322\n",
      "Epoch 13/25\n",
      "2899/2899 [==============================] - 46s 16ms/step - loss: 0.4963 - accuracy: 0.7638 - val_loss: 0.5311 - val_accuracy: 0.7339\n",
      "Epoch 14/25\n",
      "2899/2899 [==============================] - 46s 16ms/step - loss: 0.4949 - accuracy: 0.7670 - val_loss: 0.5469 - val_accuracy: 0.7348\n",
      "Epoch 15/25\n",
      "2899/2899 [==============================] - 47s 16ms/step - loss: 0.4967 - accuracy: 0.7631 - val_loss: 0.5415 - val_accuracy: 0.7335\n",
      "Epoch 16/25\n",
      "2899/2899 [==============================] - 47s 16ms/step - loss: 0.4870 - accuracy: 0.7710 - val_loss: 0.5407 - val_accuracy: 0.7373\n",
      "Epoch 17/25\n",
      "2899/2899 [==============================] - 47s 16ms/step - loss: 0.4837 - accuracy: 0.7725 - val_loss: 0.5413 - val_accuracy: 0.7351\n",
      "Epoch 18/25\n",
      "2899/2899 [==============================] - 47s 16ms/step - loss: 0.4827 - accuracy: 0.7719 - val_loss: 0.5375 - val_accuracy: 0.7347\n",
      "Epoch 19/25\n",
      "2899/2899 [==============================] - 47s 16ms/step - loss: 0.4718 - accuracy: 0.7787 - val_loss: 0.5467 - val_accuracy: 0.7352\n",
      "Epoch 20/25\n",
      "2899/2899 [==============================] - 47s 16ms/step - loss: 0.4732 - accuracy: 0.7773 - val_loss: 0.5474 - val_accuracy: 0.7350\n",
      "Epoch 21/25\n",
      "2899/2899 [==============================] - 47s 16ms/step - loss: 0.4670 - accuracy: 0.7829 - val_loss: 0.5415 - val_accuracy: 0.7348\n",
      "Epoch 22/25\n",
      "2899/2899 [==============================] - 47s 16ms/step - loss: 0.4626 - accuracy: 0.7851 - val_loss: 0.5407 - val_accuracy: 0.7318\n",
      "Epoch 23/25\n",
      "2899/2899 [==============================] - 47s 16ms/step - loss: 0.4615 - accuracy: 0.7885 - val_loss: 0.5609 - val_accuracy: 0.7293\n",
      "Epoch 24/25\n",
      "2899/2899 [==============================] - 47s 16ms/step - loss: 0.4501 - accuracy: 0.7956 - val_loss: 0.5571 - val_accuracy: 0.7280\n",
      "Epoch 25/25\n",
      "2899/2899 [==============================] - 47s 16ms/step - loss: 0.4484 - accuracy: 0.7957 - val_loss: 0.5898 - val_accuracy: 0.7292\n"
     ]
    },
    {
     "data": {
      "text/plain": [
       "<tensorflow.python.keras.callbacks.History at 0x7f41e864f8d0>"
      ]
     },
     "execution_count": 20,
     "metadata": {
      "tags": []
     },
     "output_type": "execute_result"
    }
   ],
   "source": [
    "model.fit(\n",
    "    X_train,\n",
    "    Y_train,\n",
    "    epochs=25,\n",
    "    batch_size=16,\n",
    "    validation_split = 0.15,\n",
    "    verbose = 1\n",
    ")"
   ]
  },
  {
   "cell_type": "code",
   "execution_count": null,
   "metadata": {
    "colab": {
     "base_uri": "https://localhost:8080/"
    },
    "id": "_iShX6FgIkbd",
    "outputId": "5ca425d1-ae8c-4ca1-cbd3-ad5f7556de31"
   },
   "outputs": [
    {
     "name": "stdout",
     "output_type": "stream",
     "text": [
      "301/301 [==============================] - 2s 7ms/step - loss: 0.5773 - accuracy: 0.7255\n"
     ]
    },
    {
     "data": {
      "text/plain": [
       "[0.577309787273407, 0.7254883050918579]"
      ]
     },
     "execution_count": 21,
     "metadata": {
      "tags": []
     },
     "output_type": "execute_result"
    }
   ],
   "source": [
    "model.evaluate(\n",
    "    X_test,\n",
    "    Y_test,\n",
    "    verbose=1\n",
    ")"
   ]
  },
  {
   "cell_type": "code",
   "execution_count": null,
   "metadata": {
    "id": "p2AKxaT3QTWD"
   },
   "outputs": [],
   "source": [
    "model.save(\"Sentiment_keras.h5\")"
   ]
  }
 ],
 "metadata": {
  "accelerator": "GPU",
  "colab": {
   "collapsed_sections": [
    "9-jwFfnsEJ3u"
   ],
   "name": "sentiment analysis using Bidirectional Model.ipynb",
   "provenance": []
  },
  "kernelspec": {
   "display_name": "Python 3",
   "language": "python",
   "name": "python3"
  },
  "language_info": {
   "codemirror_mode": {
    "name": "ipython",
    "version": 3
   },
   "file_extension": ".py",
   "mimetype": "text/x-python",
   "name": "python",
   "nbconvert_exporter": "python",
   "pygments_lexer": "ipython3",
   "version": "3.8.8"
  }
 },
 "nbformat": 4,
 "nbformat_minor": 1
}
