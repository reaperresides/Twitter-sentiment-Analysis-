{
 "cells": [
  {
   "cell_type": "markdown",
   "metadata": {
    "id": "-8Z0FH5hSpVp"
   },
   "source": [
    "# ML model BOW"
   ]
  },
  {
   "cell_type": "code",
   "execution_count": null,
   "metadata": {
    "id": "ArW0Z_7rStEA"
   },
   "outputs": [],
   "source": [
    "from sklearn.feature_extraction.text import CountVectorizer\n",
    "cv = CountVectorizer().fit(X_data)\n",
    "final_corpus = cv.transform(X_data)\n"
   ]
  },
  {
   "cell_type": "code",
   "execution_count": null,
   "metadata": {
    "id": "CtGVjmPDStIB"
   },
   "outputs": [],
   "source": [
    "from sklearn.model_selection import train_test_split\n",
    "\n",
    "X_train,X_test,Y_train,Y_test = train_test_split(final_corpus,Y_data,random_state=1001,test_size=0.2)"
   ]
  },
  {
   "cell_type": "code",
   "execution_count": null,
   "metadata": {
    "colab": {
     "base_uri": "https://localhost:8080/"
    },
    "id": "PrSeftfhStNB",
    "outputId": "a4950d41-5d69-4c9c-c1ed-9e0bf1deb8b9"
   },
   "outputs": [
    {
     "data": {
      "text/plain": [
       "MultinomialNB(alpha=1.0, class_prior=None, fit_prior=True)"
      ]
     },
     "execution_count": 33,
     "metadata": {
      "tags": []
     },
     "output_type": "execute_result"
    }
   ],
   "source": [
    "from sklearn.naive_bayes import MultinomialNB\n",
    "\n",
    "#multinomialNB\n",
    "model = MultinomialNB()\n",
    "model.fit(X_train,Y_train)\n"
   ]
  },
  {
   "cell_type": "code",
   "execution_count": null,
   "metadata": {
    "colab": {
     "base_uri": "https://localhost:8080/"
    },
    "id": "2sJyZO8GS8dS",
    "outputId": "1acce059-9c00-4dfb-941a-2984b48e9580"
   },
   "outputs": [
    {
     "data": {
      "text/plain": [
       "array([0, 0, 1, ..., 0, 0, 1])"
      ]
     },
     "execution_count": 34,
     "metadata": {
      "tags": []
     },
     "output_type": "execute_result"
    }
   ],
   "source": [
    "y_pred = model.predict(X_test)\n",
    "y_pred"
   ]
  },
  {
   "cell_type": "code",
   "execution_count": null,
   "metadata": {
    "colab": {
     "base_uri": "https://localhost:8080/",
     "height": 643
    },
    "id": "qDfL7MeBS8hQ",
    "outputId": "474b3cb9-f571-4deb-86ee-70c64a761c25"
   },
   "outputs": [
    {
     "data": {
      "image/png": "[encoded data removed]",
      "text/plain": [
       "<Figure size 720x720 with 2 Axes>"
      ]
     },
     "metadata": {
      "needs_background": "light",
      "tags": []
     },
     "output_type": "display_data"
    }
   ],
   "source": [
    "from sklearn.metrics import confusion_matrix\n",
    "import matplotlib.pyplot as plt\n",
    "%matplotlib inline\n",
    "import seaborn as sns\n",
    "\n",
    "\n",
    "cm = confusion_matrix(Y_test,y_pred)\n",
    "plt.figure(figsize=(10,10))\n",
    "sns.heatmap(cm,annot=True,cmap=\"coolwarm\")\n",
    "plt.title(\"Confusion Matrix\",fontdict={\"fontsize\":30})\n",
    "plt.xlabel(\"Predicted value\",fontdict={\"fontsize\":20})\n",
    "plt.ylabel(\"True value\",fontdict={\"fontsize\":20})\n",
    "plt.show()\n",
    "\n",
    "\n"
   ]
  },
  {
   "cell_type": "code",
   "execution_count": null,
   "metadata": {
    "colab": {
     "base_uri": "https://localhost:8080/"
    },
    "id": "EQNBa2O8S8md",
    "outputId": "edf501fb-8dd8-442b-e329-7a677244f740"
   },
   "outputs": [
    {
     "name": "stdout",
     "output_type": "stream",
     "text": [
      "              precision    recall  f1-score   support\n",
      "\n",
      "           0       0.74      0.77      0.75      6638\n",
      "           1       0.74      0.70      0.72      6143\n",
      "\n",
      "    accuracy                           0.74     12781\n",
      "   macro avg       0.74      0.73      0.73     12781\n",
      "weighted avg       0.74      0.74      0.74     12781\n",
      "\n",
      "------------------------------------------------------------\n",
      "score_ : 73.57% \n"
     ]
    }
   ],
   "source": [
    "from sklearn.metrics import accuracy_score,classification_report\n",
    "\n",
    "report = classification_report(Y_test,y_pred)\n",
    "print(report)\n",
    "print(\"--\"*30)\n",
    "score_ = accuracy_score(Y_test,y_pred)\n",
    "print(f\"score_ : {round(score_*100,2)}% \")"
   ]
  }
 ],
 "metadata": {
  "accelerator": "GPU",
  "colab": {
   "collapsed_sections": [
    "9-jwFfnsEJ3u"
   ],
   "name": "sentiment analysis using Bidirectional Model.ipynb",
   "provenance": []
  },
  "kernelspec": {
   "display_name": "Python 3",
   "language": "python",
   "name": "python3"
  },
  "language_info": {
   "codemirror_mode": {
    "name": "ipython",
    "version": 3
   },
   "file_extension": ".py",
   "mimetype": "text/x-python",
   "name": "python",
   "nbconvert_exporter": "python",
   "pygments_lexer": "ipython3",
   "version": "3.8.8"
  }
 },
 "nbformat": 4,
 "nbformat_minor": 1
}
