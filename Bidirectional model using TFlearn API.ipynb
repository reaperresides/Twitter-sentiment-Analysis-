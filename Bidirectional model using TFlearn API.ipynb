{
 "cells": [
  {
   "cell_type": "markdown",
   "metadata": {
    "id": "0_THsYDVM6cl"
   },
   "source": [
    "# DL model embedding (TFLEARN)"
   ]
  },
  {
   "cell_type": "code",
   "execution_count": null,
   "metadata": {
    "colab": {
     "base_uri": "https://localhost:8080/"
    },
    "id": "-Ejh-FI0ox1J",
    "outputId": "a23b927b-5d07-4da9-d62a-46fe20e3bff6"
   },
   "outputs": [
    {
     "name": "stdout",
     "output_type": "stream",
     "text": [
      "Collecting tflearn\n",
      "\u001b[?25l  Downloading https://files.pythonhosted.org/packages/e7/3c/0b156d08ef3d4e2a8009ecab2af1ad2e304f6fb99562b6271c68a74a4397/tflearn-0.5.0.tar.gz (107kB)\n",
      "\r",
      "\u001b[K     |███                             | 10kB 20.7MB/s eta 0:00:01\r",
      "\u001b[K     |██████                          | 20kB 17.1MB/s eta 0:00:01\r",
      "\u001b[K     |█████████▏                      | 30kB 14.3MB/s eta 0:00:01\r",
      "\u001b[K     |████████████▏                   | 40kB 13.4MB/s eta 0:00:01\r",
      "\u001b[K     |███████████████▎                | 51kB 8.7MB/s eta 0:00:01\r",
      "\u001b[K     |██████████████████▎             | 61kB 9.5MB/s eta 0:00:01\r",
      "\u001b[K     |█████████████████████▍          | 71kB 9.4MB/s eta 0:00:01\r",
      "\u001b[K     |████████████████████████▍       | 81kB 10.3MB/s eta 0:00:01\r",
      "\u001b[K     |███████████████████████████▌    | 92kB 9.8MB/s eta 0:00:01\r",
      "\u001b[K     |██████████████████████████████▌ | 102kB 8.4MB/s eta 0:00:01\r",
      "\u001b[K     |████████████████████████████████| 112kB 8.4MB/s \n",
      "\u001b[?25hRequirement already satisfied: numpy in /usr/local/lib/python3.7/dist-packages (from tflearn) (1.19.5)\n",
      "Requirement already satisfied: six in /usr/local/lib/python3.7/dist-packages (from tflearn) (1.15.0)\n",
      "Requirement already satisfied: Pillow in /usr/local/lib/python3.7/dist-packages (from tflearn) (7.1.2)\n",
      "Building wheels for collected packages: tflearn\n",
      "  Building wheel for tflearn (setup.py) ... \u001b[?25l\u001b[?25hdone\n",
      "  Created wheel for tflearn: filename=tflearn-0.5.0-cp37-none-any.whl size=127301 sha256=35e3d85777f428015c1c93f3afdb709631bf8c8ce5a292384b7604c4a0ea580e\n",
      "  Stored in directory: /root/.cache/pip/wheels/31/d2/ed/fb9a0d301dd9586c11e9547120278e624227f22fd5f4baf744\n",
      "Successfully built tflearn\n",
      "Installing collected packages: tflearn\n",
      "Successfully installed tflearn-0.5.0\n"
     ]
    }
   ],
   "source": [
    "!pip install tflearn"
   ]
  },
  {
   "cell_type": "code",
   "execution_count": null,
   "metadata": {
    "colab": {
     "base_uri": "https://localhost:8080/",
     "height": 367
    },
    "id": "w4CKYv82MFdi",
    "outputId": "f377bc6b-ca39-4d0b-f61f-34acf3d9f20a"
   },
   "outputs": [],
   "source": [
    "from tflearn.layers import fully_connected,embedding,dropout\n",
    "from tflearn.layers import batch_normalization,bidirectional_rnn\n",
    "from tflearn.layers.recurrent import GRUCell,BasicLSTMCell\n",
    "from tflearn.layers import input_data\n",
    "from tflearn.data_utils import pad_sequences\n",
    "from tensorflow.keras.preprocessing.text import one_hot\n",
    "from tflearn import regression,DNN"
   ]
  },
  {
   "cell_type": "code",
   "execution_count": null,
   "metadata": {
    "id": "pW3vERA5RhKo"
   },
   "outputs": [],
   "source": [
    "vocabulary_size = 5000\n",
    "\n",
    "one_hot_object = [one_hot(word,vocabulary_size) for word in X_data]\n",
    "# one_hot_object\n",
    "\n",
    "\n",
    "sent_length_ = 40\n",
    "embedded_words = pad_sequences(\n",
    "    one_hot_object,\n",
    "    maxlen = sent_length_,\n",
    "    padding=\"post\"\n",
    ")\n",
    "embedded_words\n",
    "\n",
    "\n",
    "\n",
    "\n",
    "from sklearn.model_selection import train_test_split\n",
    "X_train,X_test,Y_train,Y_test = train_test_split(embedded_words,Y_data.reshape(-1,1),test_size=0.15)"
   ]
  },
  {
   "cell_type": "code",
   "execution_count": null,
   "metadata": {
    "colab": {
     "base_uri": "https://localhost:8080/"
    },
    "id": "lwQOPAsqMxSA",
    "outputId": "c24a9b8e-441f-4949-e19b-7fdeec0bf6dd"
   },
   "outputs": [
    {
     "name": "stdout",
     "output_type": "stream",
     "text": [
      "WARNING:tensorflow:From /usr/local/lib/python3.7/dist-packages/tflearn/initializations.py:165: calling TruncatedNormal.__init__ (from tensorflow.python.ops.init_ops) with dtype is deprecated and will be removed in a future version.\n",
      "Instructions for updating:\n",
      "Call initializer instance with the dtype argument instead of passing it to the constructor\n",
      "WARNING:tensorflow:From /usr/local/lib/python3.7/dist-packages/tflearn/layers/recurrent.py:374: static_bidirectional_rnn (from tensorflow.python.ops.rnn) is deprecated and will be removed in a future version.\n",
      "Instructions for updating:\n",
      "Please use `keras.layers.Bidirectional(keras.layers.RNN(cell, unroll=True))`, which is equivalent to this API\n",
      "WARNING:tensorflow:From /usr/local/lib/python3.7/dist-packages/tensorflow/python/ops/rnn.py:1585: static_rnn (from tensorflow.python.ops.rnn) is deprecated and will be removed in a future version.\n",
      "Instructions for updating:\n",
      "Please use `keras.layers.RNN(cell, unroll=True)`, which is equivalent to this API\n",
      "WARNING:tensorflow:From /usr/local/lib/python3.7/dist-packages/tensorflow/python/util/dispatch.py:201: calling dropout (from tensorflow.python.ops.nn_ops) with keep_prob is deprecated and will be removed in a future version.\n",
      "Instructions for updating:\n",
      "Please use `rate` instead of `keep_prob`. Rate should be set to `rate = 1 - keep_prob`.\n",
      "WARNING:tensorflow:From /usr/local/lib/python3.7/dist-packages/tensorflow/python/training/rmsprop.py:123: calling Ones.__init__ (from tensorflow.python.ops.init_ops) with dtype is deprecated and will be removed in a future version.\n",
      "Instructions for updating:\n",
      "Call initializer instance with the dtype argument instead of passing it to the constructor\n"
     ]
    }
   ],
   "source": [
    "embedding_vectors = 40\n",
    "\n",
    "\n",
    "\n",
    "network = input_data(shape=(None,sent_length_))\n",
    "\n",
    "network = embedding(network,input_dim=vocabulary_size,output_dim=embedding_vectors)\n",
    "\n",
    "network = bidirectional_rnn(network,rnncell_fw=BasicLSTMCell(180),rnncell_bw=BasicLSTMCell(180),return_seq=True,name=\"bidiectional_1_layer\")\n",
    "network = bidirectional_rnn(network,rnncell_fw=BasicLSTMCell(160),rnncell_bw=BasicLSTMCell(160),return_seq=False,name=\"bidiectional_2_layer\")\n",
    "\n",
    "network = fully_connected(network,n_units=140,name=\"Dense_1_layer\",activation=\"sigmoid\")\n",
    "network = dropout(network,keep_prob=0.5)\n",
    "network = fully_connected(network,n_units=120,name=\"Dense_2_layer\",activation=\"sigmoid\")\n",
    "network = batch_normalization(network)\n",
    "\n",
    "\n",
    "network = fully_connected(network,n_units=42,name=\"Dense_3_layer\",activation=\"sigmoid\")\n",
    "network = dropout(network,keep_prob=0.5)\n",
    "\n",
    "network = fully_connected(network,1,activation=\"sigmoid\")\n",
    "network = regression(network,optimizer=\"rmsprop\",loss=\"binary_crossentropy\",metric=\"accuracy\",learning_rate=0.0005)\n",
    "\n",
    "\n",
    "model = DNN(network)"
   ]
  },
  {
   "cell_type": "code",
   "execution_count": null,
   "metadata": {
    "colab": {
     "base_uri": "https://localhost:8080/"
    },
    "id": "S9tKAMURS-JI",
    "outputId": "362a246c-fcc9-444e-8be0-e8ba1926ef56"
   },
   "outputs": [
    {
     "name": "stdout",
     "output_type": "stream",
     "text": [
      "Training Step: 72499  | total loss: \u001b[1m\u001b[32m0.69315\u001b[0m\u001b[0m | time: 136.442s\n",
      "| RMSProp | epoch: 025 | loss: 0.69315 - binary_acc: 0.4696 -- iter: 46384/46392\n",
      "Training Step: 72500  | total loss: \u001b[1m\u001b[32m0.69315\u001b[0m\u001b[0m | time: 143.052s\n",
      "| RMSProp | epoch: 025 | loss: 0.69315 - binary_acc: 0.4539 | val_loss: 0.69315 - val_binary_acc: 0.4838 -- iter: 46392/46392\n",
      "--\n"
     ]
    }
   ],
   "source": [
    "model.fit(\n",
    "    X_train,\n",
    "    Y_train,\n",
    "    validation_set=0.15,\n",
    "    batch_size=16,\n",
    "    n_epoch = 25,\n",
    "    show_metric=True\n",
    ")"
   ]
  },
  {
   "cell_type": "code",
   "execution_count": null,
   "metadata": {
    "colab": {
     "base_uri": "https://localhost:8080/"
    },
    "id": "GEA1139Ef-xJ",
    "outputId": "44d7d661-ca39-405e-8a20-50abe2e59747"
   },
   "outputs": [
    {
     "data": {
      "text/plain": [
       "[0.4833887043189369]"
      ]
     },
     "execution_count": 14,
     "metadata": {
      "tags": []
     },
     "output_type": "execute_result"
    }
   ],
   "source": [
    "model.evaluate(\n",
    "    X_test,\n",
    "    Y_test,\n",
    "    batch_size=128\n",
    ")"
   ]
  },
  {
   "cell_type": "code",
   "execution_count": null,
   "metadata": {
    "colab": {
     "base_uri": "https://localhost:8080/"
    },
    "id": "oWGvDv1GoFrZ",
    "outputId": "af974211-efd8-45f9-cdcf-9478be33a9d7"
   },
   "outputs": [
    {
     "name": "stdout",
     "output_type": "stream",
     "text": [
      "INFO:tensorflow:/content/Sentiment_tflearn.h5 is not in all_model_checkpoint_paths. Manually adding it.\n"
     ]
    }
   ],
   "source": [
    "model.save(\"Sentiment_tflearn.h5\")"
   ]
  },
  {
   "cell_type": "markdown",
   "metadata": {},
   "source": [
    "observation --> Tflearn API model has underperformed hence using either keras model or tfidf or BOW model"
   ]
  },
  {
   "cell_type": "code",
   "execution_count": null,
   "metadata": {},
   "outputs": [],
   "source": []
  }
 ],
 "metadata": {
  "accelerator": "GPU",
  "colab": {
   "collapsed_sections": [
    "9-jwFfnsEJ3u"
   ],
   "name": "sentiment analysis using Bidirectional Model.ipynb",
   "provenance": []
  },
  "kernelspec": {
   "display_name": "Python 3",
   "language": "python",
   "name": "python3"
  },
  "language_info": {
   "codemirror_mode": {
    "name": "ipython",
    "version": 3
   },
   "file_extension": ".py",
   "mimetype": "text/x-python",
   "name": "python",
   "nbconvert_exporter": "python",
   "pygments_lexer": "ipython3",
   "version": "3.8.8"
  }
 },
 "nbformat": 4,
 "nbformat_minor": 1
}
